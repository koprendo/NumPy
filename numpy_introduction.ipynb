{
 "cells": [
  {
   "cell_type": "markdown",
   "metadata": {},
   "source": [
    "# <p style=\"text-align: center; color: red\"> Learn Numpy and Empower Yourself</p>"
   ]
  },
  {
   "cell_type": "markdown",
   "metadata": {},
   "source": [
    "## **Index**\n",
    "0. [Introduction & Index](#-Learn-Numpy-and-Empower-Yourself)\n",
    "1. [Basics](#1--Basics)    \n",
    "* 1.1 - [Shape](#1.a---Shape)    \n",
    "* 1.2 - [Dimensions](#1.b---Dimensions)\n",
    "* 1.3 - [Type](#1.c---Type)\n",
    "* 1.4 - [Size](#1.d---Size)\n",
    "* 1.5 - [Other](#1.e---Other)    \n",
    "2. [Array Creation](#2--Array-Creation)\n",
    "* 2.1 - [Two, Three... Dimensional Arrays](#2.a---Two,-Three...-Dimensional-Arrays)\n",
    "* 2.2 - [With 'dtype'](#2.b---With-'dtype')\n",
    "* 2.3 - [Create Arrays With Initial Placeholder Content](#2.c---Create-Arrays-With-Initial-Placeholder-Content)\n",
    "* 2.4 - ['arange' Analogous To 'range'](#2.d---'arange'-analogous-to-'range')\n",
    "3. [Basic Operations](#3--Basic-Operations)\n",
    "* 3.1 - [Act in Place Operators](#3.a---Act-in-Place-Operators)\n",
    "* 3.2 - [Methods of ndarray Class As Unary Operations](#3.b---Methods-of-ndarray-Class-As-Unary-Operations)\n",
    "* 3.3 - [Upcasting](#3.c---Upcasting)\n",
    "* 3.4 - [ufuncs (Universal Functions)](#3.d---ufuncs-(Universal-Functions))\n",
    "4. [Indexing, Slicing and Iterating](#4--Indexing,-Slicing-and-Iterating)"
   ]
  },
  {
   "cell_type": "code",
   "execution_count": 2,
   "metadata": {},
   "outputs": [],
   "source": [
    "import numpy as np\n",
    "import matplotlib as plt"
   ]
  },
  {
   "cell_type": "markdown",
   "metadata": {},
   "source": [
    "## 1- Basics"
   ]
  },
  {
   "cell_type": "code",
   "execution_count": 3,
   "metadata": {},
   "outputs": [],
   "source": [
    "# create an array for inspecting important attributes of an ndarray object: \n",
    "first = np.arange(15).reshape(3, 5)"
   ]
  },
  {
   "cell_type": "code",
   "execution_count": 4,
   "metadata": {},
   "outputs": [
    {
     "data": {
      "text/plain": [
       "array([[ 0,  1,  2,  3,  4],\n",
       "       [ 5,  6,  7,  8,  9],\n",
       "       [10, 11, 12, 13, 14]])"
      ]
     },
     "execution_count": 4,
     "metadata": {},
     "output_type": "execute_result"
    }
   ],
   "source": [
    "first"
   ]
  },
  {
   "cell_type": "markdown",
   "metadata": {},
   "source": [
    "### 1.a - Shape"
   ]
  },
  {
   "cell_type": "code",
   "execution_count": 5,
   "metadata": {},
   "outputs": [
    {
     "data": {
      "text/plain": [
       "(3, 5)"
      ]
     },
     "execution_count": 5,
     "metadata": {},
     "output_type": "execute_result"
    }
   ],
   "source": [
    "# returns a tuple of integers indicating the size of the array in each\n",
    "# dimension. For a matrix with n rows and m columns, shape will be (n, m).\n",
    "# The length of the returned tuple is equal to the value that ndarray.ndim \n",
    "# would return.\n",
    "first.shape"
   ]
  },
  {
   "cell_type": "markdown",
   "metadata": {},
   "source": [
    "### 1.b - Dimensions"
   ]
  },
  {
   "cell_type": "code",
   "execution_count": 6,
   "metadata": {},
   "outputs": [
    {
     "data": {
      "text/plain": [
       "2"
      ]
     },
     "execution_count": 6,
     "metadata": {},
     "output_type": "execute_result"
    }
   ],
   "source": [
    "# returns the number of axes (dimensions) of the array:\n",
    "first.ndim"
   ]
  },
  {
   "cell_type": "markdown",
   "metadata": {},
   "source": [
    "### 1.c - Type"
   ]
  },
  {
   "cell_type": "code",
   "execution_count": 7,
   "metadata": {},
   "outputs": [
    {
     "data": {
      "text/plain": [
       "dtype('int32')"
      ]
     },
     "execution_count": 7,
     "metadata": {},
     "output_type": "execute_result"
    }
   ],
   "source": [
    "# an object describing the type of the elements in the array:\n",
    "first.dtype"
   ]
  },
  {
   "cell_type": "code",
   "execution_count": 8,
   "metadata": {},
   "outputs": [
    {
     "data": {
      "text/plain": [
       "'int32'"
      ]
     },
     "execution_count": 8,
     "metadata": {},
     "output_type": "execute_result"
    }
   ],
   "source": [
    "first.dtype.name"
   ]
  },
  {
   "cell_type": "markdown",
   "metadata": {},
   "source": [
    "### 1.d - Size"
   ]
  },
  {
   "cell_type": "code",
   "execution_count": 9,
   "metadata": {},
   "outputs": [
    {
     "data": {
      "text/plain": [
       "4"
      ]
     },
     "execution_count": 9,
     "metadata": {},
     "output_type": "execute_result"
    }
   ],
   "source": [
    "# returns the size in bytes of each element of the array: \n",
    "first.itemsize"
   ]
  },
  {
   "cell_type": "code",
   "execution_count": 10,
   "metadata": {},
   "outputs": [
    {
     "data": {
      "text/plain": [
       "15"
      ]
     },
     "execution_count": 10,
     "metadata": {},
     "output_type": "execute_result"
    }
   ],
   "source": [
    "# returns the total number of elements of the array. This is equal to \n",
    "# the product of the elements of ndarray.shape.\n",
    "first.size"
   ]
  },
  {
   "cell_type": "markdown",
   "metadata": {},
   "source": [
    "### 1.e - Other"
   ]
  },
  {
   "cell_type": "code",
   "execution_count": 11,
   "metadata": {},
   "outputs": [
    {
     "data": {
      "text/plain": [
       "numpy.ndarray"
      ]
     },
     "execution_count": 11,
     "metadata": {},
     "output_type": "execute_result"
    }
   ],
   "source": [
    "type(first)"
   ]
  },
  {
   "cell_type": "code",
   "execution_count": 12,
   "metadata": {},
   "outputs": [
    {
     "data": {
      "text/plain": [
       "<memory at 0x000001E0B6032450>"
      ]
     },
     "execution_count": 12,
     "metadata": {},
     "output_type": "execute_result"
    }
   ],
   "source": [
    "# the buffer containing the actual elements of the array:\n",
    "first.data"
   ]
  },
  {
   "cell_type": "markdown",
   "metadata": {},
   "source": [
    "## 2- Array Creation"
   ]
  },
  {
   "cell_type": "code",
   "execution_count": 13,
   "metadata": {},
   "outputs": [],
   "source": [
    "# use 'array' function in order to form an array by giving a regular Python\n",
    "# list or tuple as an argument (a single sequence):  \n",
    "new = np.array([1, 2, 3])"
   ]
  },
  {
   "cell_type": "code",
   "execution_count": 14,
   "metadata": {},
   "outputs": [
    {
     "name": "stdout",
     "output_type": "stream",
     "text": [
      "[1 2 3]\n",
      "<class 'numpy.ndarray'>\n",
      "int32\n"
     ]
    }
   ],
   "source": [
    "print(new)\n",
    "print(type(new))\n",
    "print(new.dtype)"
   ]
  },
  {
   "cell_type": "code",
   "execution_count": 15,
   "metadata": {},
   "outputs": [
    {
     "name": "stdout",
     "output_type": "stream",
     "text": [
      "float64\n"
     ]
    }
   ],
   "source": [
    "new_2 = np.array([1.0, 2.0, 3.0])\n",
    "print(new_2.dtype)"
   ]
  },
  {
   "cell_type": "markdown",
   "metadata": {},
   "source": [
    "### 2.a - Two, Three... Dimensional Arrays"
   ]
  },
  {
   "cell_type": "code",
   "execution_count": 16,
   "metadata": {
    "collapsed": true
   },
   "outputs": [
    {
     "name": "stdout",
     "output_type": "stream",
     "text": [
      "[[1 2]\n",
      " [4 5]\n",
      " [7 8]]\n",
      "Dimensions: 2\n",
      "Size of dimensions: (3, 2)\n",
      "-----------\n",
      "[[[1 2]\n",
      "  [3 4]]\n",
      "\n",
      " [[5 6]\n",
      "  [7 8]]]\n",
      "Dimensions: 3\n",
      "Size of dimensions: (2, 2, 2)\n",
      "-----------\n",
      "[[[ 0  1]\n",
      "  [ 2  3]]\n",
      "\n",
      " [[ 4  5]\n",
      "  [ 6  7]]\n",
      "\n",
      " [[ 8  9]\n",
      "  [10 11]]]\n",
      "Dimensions: 3\n",
      "Size of dimensions: (3, 2, 2)\n"
     ]
    }
   ],
   "source": [
    "# 'array' function transforms sequences of sequences into two-dimensional \n",
    "# arrays, sequences of sequences of sequences into three-dimensional arrays, \n",
    "# and so on:\n",
    "\n",
    "two_d = np.array([(1,2), (4,5), (7,8)])\n",
    "print(two_d)\n",
    "print(\"Dimensions:\", two_d.ndim)\n",
    "print(\"Size of dimensions:\", two_d.shape)\n",
    "\n",
    "print(\"-----------\")\n",
    "\n",
    "three_d = np.array([[(1, 2), (3, 4)], [(5, 6), (7, 8)]])\n",
    "print(three_d)\n",
    "print(\"Dimensions:\", three_d.ndim)\n",
    "print(\"Size of dimensions:\", three_d.shape)\n",
    "\n",
    "print(\"-----------\")\n",
    "\n",
    "another_3d = np.array([[(0, 1), (2, 3)], [(4, 5), (6, 7)], [(8, 9), (10, 11)]])\n",
    "print(another_3d)\n",
    "print(\"Dimensions:\", another_3d.ndim)\n",
    "print(\"Size of dimensions:\", another_3d.shape)"
   ]
  },
  {
   "cell_type": "code",
   "execution_count": 135,
   "metadata": {
    "collapsed": true
   },
   "outputs": [
    {
     "name": "stdout",
     "output_type": "stream",
     "text": [
      "another_3d:\n",
      " [[[ 0  1]\n",
      "  [ 2  3]]\n",
      "\n",
      " [[ 4  5]\n",
      "  [ 6  7]]\n",
      "\n",
      " [[ 8  9]\n",
      "  [10 11]]] \n",
      "\n",
      "<<<<<<>>>>>>\n",
      "\n",
      " another_3d[0]:\n",
      " [[0 1]\n",
      " [2 3]] \n",
      "\n",
      "<<<<<<>>>>>>\n",
      "\n",
      " another_3d[0][0]:\n",
      " [0 1] \n",
      "\n",
      "<<<<<<>>>>>>\n",
      "\n",
      " another_3d[0][0][0]:\n",
      " 0\n"
     ]
    }
   ],
   "source": [
    "# investigate the output, not the code\n",
    "\n",
    "line_break = \"\\n\\n<<<<<<>>>>>>\\n\\n\"\n",
    "print(\"another_3d:\\n\", \n",
    "      another_3d, \n",
    "      line_break, \n",
    "      \"another_3d[0]:\\n\", \n",
    "      another_3d[0],\n",
    "      line_break,\n",
    "      \"another_3d[0][0]:\\n\",\n",
    "      another_3d[0][0],\n",
    "      line_break,\n",
    "      \"another_3d[0][0][0]:\\n\",\n",
    "      another_3d[0][0][0])"
   ]
  },
  {
   "cell_type": "markdown",
   "metadata": {},
   "source": [
    "### 2.b - With 'dtype'"
   ]
  },
  {
   "cell_type": "code",
   "execution_count": 18,
   "metadata": {},
   "outputs": [
    {
     "name": "stdout",
     "output_type": "stream",
     "text": [
      "[1.+0.j 2.+0.j 3.+0.j] \n",
      "\n",
      " [1. 2. 3.]\n"
     ]
    }
   ],
   "source": [
    "# specify your desired data-type when creating an array with dtype argument:\n",
    "print(np.array([1, 2, 3], dtype=complex), \"\\n\\n\", np.array([1, 2, 3], float))"
   ]
  },
  {
   "cell_type": "markdown",
   "metadata": {},
   "source": [
    "### 2.c - Create Arrays With Initial Placeholder Content"
   ]
  },
  {
   "cell_type": "code",
   "execution_count": 19,
   "metadata": {
    "collapsed": true
   },
   "outputs": [
    {
     "name": "stdout",
     "output_type": "stream",
     "text": [
      "[[0. 0.]\n",
      " [0. 0.]]\n",
      "\n",
      "[[1. 1. 1.]\n",
      " [1. 1. 1.]]\n",
      "\n",
      "[[1. 1.]\n",
      " [1. 1.]\n",
      " [1. 1.]]\n",
      "\n"
     ]
    }
   ],
   "source": [
    "# use 'zeros' function to create an array full of zeros:\n",
    "print(np.zeros((2, 2)), end=\"\\n\\n\")\n",
    "\n",
    "# use 'ones' function to create an array full of ones:\n",
    "print(np.ones((2, 3)), end=\"\\n\\n\")\n",
    "\n",
    "# use 'empty' function to create an array whose initial content is random and depends on the state \n",
    "# of the memory. 'empty' function is marginally faster than 'zeros' function but should be used \n",
    "# with caution.\n",
    "print(np.empty((3,2)), end=\"\\n\\n\")"
   ]
  },
  {
   "cell_type": "code",
   "execution_count": 20,
   "metadata": {},
   "outputs": [
    {
     "data": {
      "text/plain": [
       "array([0, 0, 0])"
      ]
     },
     "execution_count": 20,
     "metadata": {},
     "output_type": "execute_result"
    }
   ],
   "source": [
    "# use 'zeros_like' function to return an array of zeros with the same shape and type as a given array:\n",
    "given_array = np.arange(1, 10, 4)\n",
    "np.zeros_like(given_array)"
   ]
  },
  {
   "cell_type": "code",
   "execution_count": 21,
   "metadata": {},
   "outputs": [
    {
     "data": {
      "text/plain": [
       "array([1, 1, 1])"
      ]
     },
     "execution_count": 21,
     "metadata": {},
     "output_type": "execute_result"
    }
   ],
   "source": [
    "# use 'ones_like' function to return an array of ones with the same shape and type as a given array:\n",
    "np.ones_like(given_array)"
   ]
  },
  {
   "cell_type": "code",
   "execution_count": 22,
   "metadata": {},
   "outputs": [
    {
     "data": {
      "text/plain": [
       "array([0, 0, 0])"
      ]
     },
     "execution_count": 22,
     "metadata": {},
     "output_type": "execute_result"
    }
   ],
   "source": [
    "# use 'empty_like' function to return a random array with the same shape and type as a given array:\n",
    "np.empty_like(given_array)"
   ]
  },
  {
   "cell_type": "markdown",
   "metadata": {},
   "source": [
    "### 2.d - 'arange' analogous to 'range'"
   ]
  },
  {
   "cell_type": "code",
   "execution_count": 23,
   "metadata": {},
   "outputs": [
    {
     "data": {
      "text/plain": [
       "array([1, 3, 5, 7, 9])"
      ]
     },
     "execution_count": 23,
     "metadata": {},
     "output_type": "execute_result"
    }
   ],
   "source": [
    "# use 'arange' function (analogous to the built-in function 'range') to create sequences of numbers:\n",
    "np.arange(1, 10, 2)"
   ]
  },
  {
   "cell_type": "code",
   "execution_count": 24,
   "metadata": {},
   "outputs": [
    {
     "data": {
      "text/plain": [
       "array([1. , 2.5, 4. , 5.5, 7. , 8.5])"
      ]
     },
     "execution_count": 24,
     "metadata": {},
     "output_type": "execute_result"
    }
   ],
   "source": [
    "np.arange(1, 10, 1.5) # it accepts float arguments"
   ]
  },
  {
   "cell_type": "code",
   "execution_count": 25,
   "metadata": {},
   "outputs": [
    {
     "data": {
      "text/plain": [
       "array([ 1.   ,  2.125,  3.25 ,  4.375,  5.5  ,  6.625,  7.75 ,  8.875,\n",
       "       10.   ])"
      ]
     },
     "execution_count": 25,
     "metadata": {},
     "output_type": "execute_result"
    }
   ],
   "source": [
    "# use 'linspace' function to return evenly spaced numbers over a specified interval:\n",
    "np.linspace(1, 10, 9)"
   ]
  },
  {
   "cell_type": "code",
   "execution_count": 26,
   "metadata": {
    "collapsed": true
   },
   "outputs": [
    {
     "data": {
      "text/plain": [
       "array([1.        , 1.05336551, 1.10673102, 1.16009652, 1.21346203,\n",
       "       1.26682754, 1.32019305, 1.37355856, 1.42692407, 1.48028957,\n",
       "       1.53365508, 1.58702059, 1.6403861 , 1.69375161, 1.74711711,\n",
       "       1.80048262, 1.85384813, 1.90721364, 1.96057915, 2.01394465,\n",
       "       2.06731016, 2.12067567, 2.17404118, 2.22740669, 2.2807722 ,\n",
       "       2.3341377 , 2.38750321, 2.44086872, 2.49423423, 2.54759974,\n",
       "       2.60096524, 2.65433075, 2.70769626, 2.76106177, 2.81442728,\n",
       "       2.86779279, 2.92115829, 2.9745238 , 3.02788931, 3.08125482,\n",
       "       3.13462033, 3.18798583, 3.24135134, 3.29471685, 3.34808236,\n",
       "       3.40144787, 3.45481338, 3.50817888, 3.56154439, 3.6149099 ,\n",
       "       3.66827541, 3.72164092, 3.77500642, 3.82837193, 3.88173744,\n",
       "       3.93510295, 3.98846846, 4.04183396, 4.09519947, 4.14856498,\n",
       "       4.20193049, 4.255296  , 4.30866151, 4.36202701, 4.41539252,\n",
       "       4.46875803, 4.52212354, 4.57548905, 4.62885455, 4.68222006,\n",
       "       4.73558557, 4.78895108, 4.84231659, 4.8956821 , 4.9490476 ,\n",
       "       5.00241311, 5.05577862, 5.10914413, 5.16250964, 5.21587514,\n",
       "       5.26924065, 5.32260616, 5.37597167, 5.42933718, 5.48270268,\n",
       "       5.53606819, 5.5894337 , 5.64279921, 5.69616472, 5.74953023,\n",
       "       5.80289573, 5.85626124, 5.90962675, 5.96299226, 6.01635777,\n",
       "       6.06972327, 6.12308878, 6.17645429, 6.2298198 , 6.28318531])"
      ]
     },
     "execution_count": 26,
     "metadata": {},
     "output_type": "execute_result"
    }
   ],
   "source": [
    "np.linspace(1, np.pi * 2, 100)"
   ]
  },
  {
   "cell_type": "markdown",
   "metadata": {},
   "source": [
    "## 3- Basic Operations"
   ]
  },
  {
   "cell_type": "code",
   "execution_count": 157,
   "metadata": {},
   "outputs": [
    {
     "data": {
      "text/plain": [
       "array([10, 21, 32, 43])"
      ]
     },
     "execution_count": 157,
     "metadata": {},
     "output_type": "execute_result"
    }
   ],
   "source": [
    "# Arithmetic operators on arrays apply elementwise. \n",
    "tens = np.array([10, 20, 30, 40])\n",
    "ones = np.arange(4)\n",
    "\n",
    "the_sum = tens + ones\n",
    "the_sum"
   ]
  },
  {
   "cell_type": "code",
   "execution_count": 158,
   "metadata": {},
   "outputs": [
    {
     "data": {
      "text/plain": [
       "array([0, 1, 4, 9], dtype=int32)"
      ]
     },
     "execution_count": 158,
     "metadata": {},
     "output_type": "execute_result"
    }
   ],
   "source": [
    "ones ** 2"
   ]
  },
  {
   "cell_type": "code",
   "execution_count": 159,
   "metadata": {},
   "outputs": [
    {
     "data": {
      "text/plain": [
       "array([-5.44021111,  9.12945251, -9.88031624,  7.4511316 ])"
      ]
     },
     "execution_count": 159,
     "metadata": {},
     "output_type": "execute_result"
    }
   ],
   "source": [
    "np.sin(tens) * 10"
   ]
  },
  {
   "cell_type": "code",
   "execution_count": 160,
   "metadata": {},
   "outputs": [
    {
     "data": {
      "text/plain": [
       "array([ True,  True, False, False])"
      ]
     },
     "execution_count": 160,
     "metadata": {},
     "output_type": "execute_result"
    }
   ],
   "source": [
    "tens < 25"
   ]
  },
  {
   "cell_type": "code",
   "execution_count": 161,
   "metadata": {},
   "outputs": [
    {
     "data": {
      "text/plain": [
       "array([  0,  20,  60, 120])"
      ]
     },
     "execution_count": 161,
     "metadata": {},
     "output_type": "execute_result"
    }
   ],
   "source": [
    "the_multip = ones * tens # elementwise product\n",
    "\n",
    "the_multip"
   ]
  },
  {
   "cell_type": "code",
   "execution_count": 162,
   "metadata": {},
   "outputs": [
    {
     "data": {
      "text/plain": [
       "array([[1, 3],\n",
       "       [8, 7]])"
      ]
     },
     "execution_count": 162,
     "metadata": {},
     "output_type": "execute_result"
    }
   ],
   "source": [
    "matrix_a = np.array([[1, 0], [0, 1]])\n",
    "matrix_b = np.array([[1, 3], [8, 7]])\n",
    "\n",
    "matrix_a @ matrix_b # matrix product\n",
    "\n",
    "matrix_a.dot(matrix_b) # another matrix product"
   ]
  },
  {
   "cell_type": "markdown",
   "metadata": {},
   "source": [
    "### 3.a - Act in Place Operators"
   ]
  },
  {
   "cell_type": "code",
   "execution_count": 163,
   "metadata": {},
   "outputs": [
    {
     "name": "stdout",
     "output_type": "stream",
     "text": [
      "Matrix B:\n",
      "----\n",
      " [[3 3]\n",
      " [3 3]]\n",
      "\n",
      "Matrix A:\n",
      "----\n",
      " [[3.51182162 3.9504637 ]\n",
      " [3.14415961 3.94864945]]\n"
     ]
    }
   ],
   "source": [
    "rg = np.random.default_rng(1) # create instance of default random number generator\n",
    "matrix_a = rg.random((2, 2))\n",
    "matrix_b = np.ones((2, 2), dtype=int)\n",
    "\n",
    "# some operations, such as += and *=, act in place \n",
    "matrix_b *= 3\n",
    "matrix_a += matrix_b\n",
    "\n",
    "print(\"Matrix B:\\n----\\n\", matrix_b)\n",
    "print(\"\\nMatrix A:\\n----\\n\", matrix_a)"
   ]
  },
  {
   "cell_type": "code",
   "execution_count": 166,
   "metadata": {},
   "outputs": [
    {
     "ename": "UFuncTypeError",
     "evalue": "Cannot cast ufunc 'add' output from dtype('float64') to dtype('int32') with casting rule 'same_kind'",
     "output_type": "error",
     "traceback": [
      "\u001b[1;31m----------------------------------------------------------------------\u001b[0m",
      "\u001b[1;31mUFuncTypeError\u001b[0m                       Traceback (most recent call last)",
      "\u001b[1;32m<ipython-input-166-af1ce2b88b05>\u001b[0m in \u001b[0;36m<module>\u001b[1;34m\u001b[0m\n\u001b[1;32m----> 1\u001b[1;33m \u001b[0mmatrix_b\u001b[0m \u001b[1;33m+=\u001b[0m \u001b[0mmatrix_a\u001b[0m \u001b[1;31m# since matrix_a is not automatically converted to integer type, we'll get error\u001b[0m\u001b[1;33m\u001b[0m\u001b[1;33m\u001b[0m\u001b[0m\n\u001b[0m\u001b[0;32m      2\u001b[0m \u001b[0mmatrix_b\u001b[0m\u001b[1;33m\u001b[0m\u001b[1;33m\u001b[0m\u001b[0m\n",
      "\u001b[1;31mUFuncTypeError\u001b[0m: Cannot cast ufunc 'add' output from dtype('float64') to dtype('int32') with casting rule 'same_kind'"
     ]
    }
   ],
   "source": [
    "matrix_b += matrix_a # since matrix_a is not automatically converted to integer type, we'll get error\n",
    "matrix_b"
   ]
  },
  {
   "cell_type": "markdown",
   "metadata": {},
   "source": [
    "### 3.b - Methods of ndarray Class As Unary Operations"
   ]
  },
  {
   "cell_type": "code",
   "execution_count": 167,
   "metadata": {},
   "outputs": [
    {
     "name": "stdout",
     "output_type": "stream",
     "text": [
      "Matrix\n",
      "----\n",
      " [[0.31183145 0.42332645 0.82770259 0.40919914]\n",
      " [0.54959369 0.02755911 0.75351311 0.53814331]] \n",
      " Sum: 3.840868853982877 \n",
      " Minimum: 0.027559113243068367 \n",
      " Maximum: 0.8277025938204418 \n",
      " Cumulative Sum:\n",
      " [0.31183145 0.7351579  1.56286049 1.97205963 2.52165332 2.54921243\n",
      " 3.30272554 3.84086885]\n"
     ]
    }
   ],
   "source": [
    "# Many unary operations, such as computing the sum of all the elements in the array, are \n",
    "# implemented as methods of the ndarray class.\n",
    "\n",
    "matrix_a = rg.random((2, 4))\n",
    "print(\"Matrix\\n----\\n\", matrix_a, \n",
    "      \"\\n Sum:\", matrix_a.sum(), \n",
    "      \"\\n Minimum:\", matrix_a.min(), \n",
    "      \"\\n Maximum:\", matrix_a.max(), \n",
    "      \"\\n Cumulative Sum:\\n\", matrix_a.cumsum())"
   ]
  },
  {
   "cell_type": "code",
   "execution_count": 168,
   "metadata": {
    "collapsed": true
   },
   "outputs": [
    {
     "name": "stdout",
     "output_type": "stream",
     "text": [
      "Matrix\n",
      "----\n",
      " [[ 0  1  2  3  4]\n",
      " [ 5  6  7  8  9]\n",
      " [10 11 12 13 14]\n",
      " [15 16 17 18 19]] \n",
      " Sum of Each Column: [30 34 38 42 46] \n",
      " Minimum of Each Row: [ 0  5 10 15] \n",
      "\n",
      " Cumulative Sum along Each Row:\n",
      " [[ 0  1  3  6 10]\n",
      " [ 5 11 18 26 35]\n",
      " [10 21 33 46 60]\n",
      " [15 31 48 66 85]] \n",
      "\n",
      " Cumulative Sum along Each Column:\n",
      " [[ 0  1  2  3  4]\n",
      " [ 5  7  9 11 13]\n",
      " [15 18 21 24 27]\n",
      " [30 34 38 42 46]]\n"
     ]
    }
   ],
   "source": [
    "# By default, these operations apply to the array as though it were a list of numbers, regardless\n",
    "# of its shape. However, by specifying the axis parameter you can apply an operation along the \n",
    "# specified axis of an array:\n",
    "\n",
    "matrix_a = np.arange(20).reshape(4, 5)\n",
    "print(\"Matrix\\n----\\n\", matrix_a, \n",
    "      \"\\n Sum of Each Column:\", matrix_a.sum(axis=0), \n",
    "      \"\\n Minimum of Each Row:\", matrix_a.min(axis=1), \n",
    "      \"\\n\\n Cumulative Sum along Each Row:\\n\", matrix_a.cumsum(axis=1),\n",
    "      \"\\n\\n Cumulative Sum along Each Column:\\n\", matrix_a.cumsum(axis=0))"
   ]
  },
  {
   "cell_type": "markdown",
   "metadata": {},
   "source": [
    "### 3.c - Upcasting"
   ]
  },
  {
   "cell_type": "code",
   "execution_count": 175,
   "metadata": {},
   "outputs": [
    {
     "data": {
      "text/plain": [
       "array([ 2. ,  6.5, 11. ])"
      ]
     },
     "execution_count": 175,
     "metadata": {},
     "output_type": "execute_result"
    }
   ],
   "source": [
    "# When operating with arrays of different types, the type of the resulting array corresponds to \n",
    "# the more general or precise one (a behavior known as upcasting)\n",
    "\n",
    "matrix_a = np.ones(3, dtype=int)\n",
    "matrix_b = np.linspace(1, 10, 3)\n",
    "matrix_a + matrix_b"
   ]
  },
  {
   "cell_type": "markdown",
   "metadata": {},
   "source": [
    "### 3.d - ufuncs (Universal Functions)"
   ]
  },
  {
   "cell_type": "code",
   "execution_count": 200,
   "metadata": {},
   "outputs": [
    {
     "data": {
      "text/plain": [
       "array([1.        , 2.71828183, 7.3890561 ])"
      ]
     },
     "execution_count": 200,
     "metadata": {},
     "output_type": "execute_result"
    }
   ],
   "source": [
    "# NumPy provides familiar mathematical functions such as sin, cos, and exp. In NumPy, these are \n",
    "# called “universal functions” (ufunc). Within NumPy, these functions operate elementwise on an \n",
    "# array, producing an array as output.\n",
    "\n",
    "a = np.arange(3)\n",
    "\n",
    "np.exp(a)"
   ]
  },
  {
   "cell_type": "code",
   "execution_count": 201,
   "metadata": {},
   "outputs": [
    {
     "data": {
      "text/plain": [
       "array([0.        , 1.        , 1.41421356])"
      ]
     },
     "execution_count": 201,
     "metadata": {},
     "output_type": "execute_result"
    }
   ],
   "source": [
    "np.sqrt(a)"
   ]
  },
  {
   "cell_type": "code",
   "execution_count": 202,
   "metadata": {},
   "outputs": [
    {
     "data": {
      "text/plain": [
       "array([0.        , 2.        , 3.41421356])"
      ]
     },
     "execution_count": 202,
     "metadata": {},
     "output_type": "execute_result"
    }
   ],
   "source": [
    "np.add(a, np.sqrt(a))"
   ]
  },
  {
   "cell_type": "code",
   "execution_count": 207,
   "metadata": {},
   "outputs": [
    {
     "data": {
      "text/plain": [
       "array([[0, 5],\n",
       "       [1, 6],\n",
       "       [2, 7],\n",
       "       [3, 8],\n",
       "       [4, 9]])"
      ]
     },
     "execution_count": 207,
     "metadata": {},
     "output_type": "execute_result"
    }
   ],
   "source": [
    "a = np.arange(10).reshape(2, 5)\n",
    "np.transpose(a)"
   ]
  },
  {
   "cell_type": "code",
   "execution_count": 209,
   "metadata": {},
   "outputs": [
    {
     "data": {
      "text/plain": [
       "4.5"
      ]
     },
     "execution_count": 209,
     "metadata": {},
     "output_type": "execute_result"
    }
   ],
   "source": [
    "np.mean(a)"
   ]
  },
  {
   "cell_type": "code",
   "execution_count": 210,
   "metadata": {},
   "outputs": [
    {
     "data": {
      "text/plain": [
       "4.5"
      ]
     },
     "execution_count": 210,
     "metadata": {},
     "output_type": "execute_result"
    }
   ],
   "source": [
    "np.median(a)"
   ]
  },
  {
   "cell_type": "code",
   "execution_count": 211,
   "metadata": {},
   "outputs": [
    {
     "data": {
      "text/plain": [
       "2.8722813232690143"
      ]
     },
     "execution_count": 211,
     "metadata": {},
     "output_type": "execute_result"
    }
   ],
   "source": [
    "np.std(a)"
   ]
  },
  {
   "cell_type": "code",
   "execution_count": 212,
   "metadata": {},
   "outputs": [
    {
     "data": {
      "text/plain": [
       "8.25"
      ]
     },
     "execution_count": 212,
     "metadata": {},
     "output_type": "execute_result"
    }
   ],
   "source": [
    "np.var(a)"
   ]
  },
  {
   "cell_type": "markdown",
   "metadata": {},
   "source": [
    "## 4- Indexing, Slicing and Iterating"
   ]
  },
  {
   "cell_type": "code",
   "execution_count": null,
   "metadata": {},
   "outputs": [],
   "source": []
  },
  {
   "cell_type": "code",
   "execution_count": null,
   "metadata": {},
   "outputs": [],
   "source": []
  }
 ],
 "metadata": {
  "kernelspec": {
   "display_name": "Python 3",
   "language": "python",
   "name": "python3"
  },
  "language_info": {
   "codemirror_mode": {
    "name": "ipython",
    "version": 3
   },
   "file_extension": ".py",
   "mimetype": "text/x-python",
   "name": "python",
   "nbconvert_exporter": "python",
   "pygments_lexer": "ipython3",
   "version": "3.8.5"
  }
 },
 "nbformat": 4,
 "nbformat_minor": 4
}
